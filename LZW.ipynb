{
 "cells": [
  {
   "cell_type": "code",
   "execution_count": 2,
   "metadata": {},
   "outputs": [],
   "source": [
    "def lzw_compress(data):\n",
    "    dictionary = {chr(i): i for i in range(127)}\n",
    "    next_code = 128\n",
    "    result = []\n",
    "    current_sequence = \"\"\n",
    "    \n",
    "    for char in data:\n",
    "        new_sequence = current_sequence + char\n",
    "        if new_sequence in dictionary:\n",
    "            current_sequence = new_sequence\n",
    "        else:\n",
    "            result.append(dictionary[current_sequence])\n",
    "            dictionary[new_sequence] = next_code\n",
    "            next_code += 1\n",
    "            current_sequence = char\n",
    "    \n",
    "    if current_sequence:\n",
    "        result.append(dictionary[current_sequence])\n",
    "    \n",
    "    return result"
   ]
  },
  {
   "cell_type": "code",
   "execution_count": 3,
   "metadata": {},
   "outputs": [
    {
     "data": {
      "text/plain": [
       "[119, 97, 98, 98, 97, 128, 130, 97]"
      ]
     },
     "execution_count": 3,
     "metadata": {},
     "output_type": "execute_result"
    }
   ],
   "source": [
    "lzw_compress(\"wabbawabba\")"
   ]
  },
  {
   "cell_type": "code",
   "execution_count": 6,
   "metadata": {},
   "outputs": [],
   "source": [
    "def lzw_decompress(compressed_data):\n",
    "    dictionary = {i: chr(i) for i in range(127)}\n",
    "    next_code = 128\n",
    "    result = []\n",
    "    previous_code = compressed_data[0]\n",
    "    result.append(dictionary[previous_code])\n",
    "    previous_entry = dictionary[previous_code]\n",
    "    \n",
    "    for code in compressed_data[1:]:\n",
    "        if code in dictionary:\n",
    "            entry = dictionary[code]\n",
    "        elif code == next_code:\n",
    "            entry = previous_entry + previous_entry[0]\n",
    "        else:\n",
    "            raise ValueError(\"Bad compressed sequence\")\n",
    "        \n",
    "        result.append(entry)\n",
    "        dictionary[next_code] = previous_entry + entry[0]\n",
    "        next_code += 1\n",
    "        previous_entry = entry\n",
    "    \n",
    "    return ''.join(result)"
   ]
  },
  {
   "cell_type": "code",
   "execution_count": 7,
   "metadata": {},
   "outputs": [
    {
     "data": {
      "text/plain": [
       "'wabbawabba'"
      ]
     },
     "execution_count": 7,
     "metadata": {},
     "output_type": "execute_result"
    }
   ],
   "source": [
    "lzw_decompress([119, 97, 98, 98, 97, 128, 130, 97])"
   ]
  },
  {
   "cell_type": "code",
   "execution_count": 8,
   "metadata": {},
   "outputs": [
    {
     "data": {
      "text/plain": [
       "[65, 66, 65, 128, 128, 129, 131, 134, 130, 129, 66, 138, 139, 138]"
      ]
     },
     "execution_count": 8,
     "metadata": {},
     "output_type": "execute_result"
    }
   ],
   "source": [
    "lzw_compress(\"ABAABABBAABAABAAAABABBBBBBBB\")"
   ]
  },
  {
   "cell_type": "code",
   "execution_count": 9,
   "metadata": {},
   "outputs": [
    {
     "data": {
      "text/plain": [
       "'ABAABABBAABAABAAAABABBBBBBBB'"
      ]
     },
     "execution_count": 9,
     "metadata": {},
     "output_type": "execute_result"
    }
   ],
   "source": [
    "lzw_decompress([65, 66, 65, 128, 128, 129, 131, 134, 130, 129, 66, 138, 139, 138])"
   ]
  },
  {
   "cell_type": "code",
   "execution_count": 13,
   "metadata": {},
   "outputs": [],
   "source": [
    "class LZW:\n",
    "    def __init__(self, ascii_limit):\n",
    "        # HOW MUCH ASCII YOU WANT\n",
    "        self.ascii_limit = ascii_limit\n",
    "        \n",
    "    def lzw_compress(self,data):\n",
    "        dictionary = {chr(i): i for i in range(127)}\n",
    "        next_code = 128\n",
    "        result = []\n",
    "        current_sequence = \"\"\n",
    "        \n",
    "        for char in data:\n",
    "            new_sequence = current_sequence + char\n",
    "            if new_sequence in dictionary:\n",
    "                current_sequence = new_sequence\n",
    "            else:\n",
    "                result.append(dictionary[current_sequence])\n",
    "                dictionary[new_sequence] = next_code\n",
    "                next_code += 1\n",
    "                current_sequence = char\n",
    "        \n",
    "        if current_sequence:\n",
    "            result.append(dictionary[current_sequence])\n",
    "    \n",
    "        return result\n",
    "    def lzw_decompress(self,compressed_data):\n",
    "        dictionary = {i: chr(i) for i in range(127)}\n",
    "        next_code = 128\n",
    "        result = []\n",
    "        previous_code = compressed_data[0]\n",
    "        result.append(dictionary[previous_code])\n",
    "        previous_entry = dictionary[previous_code]\n",
    "        \n",
    "        for code in compressed_data[1:]:\n",
    "            if code in dictionary:\n",
    "                entry = dictionary[code]\n",
    "            elif code == next_code:\n",
    "                entry = previous_entry + previous_entry[0]\n",
    "            else:\n",
    "                raise ValueError(\"Bad compressed sequence\")\n",
    "            \n",
    "            result.append(entry)\n",
    "            dictionary[next_code] = previous_entry + entry[0]\n",
    "            next_code += 1\n",
    "            previous_entry = entry\n",
    "        \n",
    "        return ''.join(result)"
   ]
  },
  {
   "cell_type": "code",
   "execution_count": 14,
   "metadata": {},
   "outputs": [],
   "source": [
    "lz = LZW(127)"
   ]
  },
  {
   "cell_type": "code",
   "execution_count": 15,
   "metadata": {},
   "outputs": [
    {
     "data": {
      "text/plain": [
       "'wabbawabba'"
      ]
     },
     "execution_count": 15,
     "metadata": {},
     "output_type": "execute_result"
    }
   ],
   "source": [
    "lz.lzw_decompress([119, 97, 98, 98, 97, 128, 130, 97])"
   ]
  },
  {
   "cell_type": "code",
   "execution_count": 16,
   "metadata": {},
   "outputs": [
    {
     "data": {
      "text/plain": [
       "[119, 97, 98, 98, 97, 128, 130, 97]"
      ]
     },
     "execution_count": 16,
     "metadata": {},
     "output_type": "execute_result"
    }
   ],
   "source": [
    "lz.lzw_compress('wabbawabba')"
   ]
  }
 ],
 "metadata": {
  "kernelspec": {
   "display_name": "base",
   "language": "python",
   "name": "python3"
  },
  "language_info": {
   "codemirror_mode": {
    "name": "ipython",
    "version": 3
   },
   "file_extension": ".py",
   "mimetype": "text/x-python",
   "name": "python",
   "nbconvert_exporter": "python",
   "pygments_lexer": "ipython3",
   "version": "3.10.9"
  }
 },
 "nbformat": 4,
 "nbformat_minor": 2
}
