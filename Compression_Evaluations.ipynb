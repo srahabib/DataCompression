{
 "cells": [
  {
   "cell_type": "code",
   "execution_count": 130,
   "id": "06d9ae88-64d3-4fb9-8d7a-bbde5b36f4a1",
   "metadata": {
    "tags": []
   },
   "outputs": [
    {
     "name": "stdout",
     "output_type": "stream",
     "text": [
      "Entropy: 0\n"
     ]
    }
   ],
   "source": [
    "import math\n",
    "\n",
    "def calculate_entropy(message):\n",
    "    # Calculate the frequency of each character\n",
    "    frequencies = {}\n",
    "    for char in message:\n",
    "        if char in frequencies:\n",
    "            frequencies[char] += 1\n",
    "        else:\n",
    "            frequencies[char] = 1\n",
    "    \n",
    "    # Calculate the entropy\n",
    "    entropy = 0\n",
    "    message_length = len(message)\n",
    "    for frequency in frequencies.values():\n",
    "        probability = frequency / message_length\n",
    "        entropy -= probability * math.log2(probability)\n",
    "    \n",
    "    return entropy\n",
    "\n",
    "def main():\n",
    "    message = input(\"Enter your message: \")\n",
    "\n",
    "    entropy = calculate_entropy(message)\n",
    "\n",
    "    print(\"Entropy:\", entropy)\n",
    "   \n",
    "\n",
    "if __name__ == \"__main__\":\n",
    "    main()"
   ]
  },
  {
   "cell_type": "code",
   "execution_count": 139,
   "id": "792c4cf8-50b3-46f3-b438-2d36296d9c01",
   "metadata": {},
   "outputs": [],
   "source": [
    "import math\n",
    "def compression_ratio(original_data, compressed_data , compression_type):\n",
    "    if compression_type == \"huffman\": # can work for GOLOMB in some examples\n",
    "        if isinstance(original_data, str):\n",
    "            original_size_h = len(original_data) * 8  # Assuming 8 bits per character\n",
    "        elif isinstance(original_data, int) or isinstance(original_data, float):\n",
    "            original_size_h = len(original_data) * len(bin(original_data))-2  # Assuming 8 bits per character\n",
    "        compressed_size_h = len(compressed_data) * len(str(max(compressed_data)))  # Assuming its binary bits per code (for simplicity)\n",
    "        return original_size_h / compressed_size_h\n",
    "    elif compression_type == \"RLE\":\n",
    "        original_size_r = len(original_data)*8\n",
    "        letters,numbers = zip(*compressed_data) \n",
    "        compressed_size_r = len(compressed_data) *(8 + math.ceil(math.log2(max(numbers)+1)))\n",
    "        return original_size_r / compressed_size_r\n",
    "    elif compression_type == \"LZW\": # can work for GOLOMB in some examples\n",
    "        if isinstance(original_data, str):\n",
    "            original_size = len(original_data) * 8  # Assuming 8 bits per character\n",
    "        elif isinstance(original_data, int) or isinstance(original_data, float):\n",
    "            original_size = len(original_data) * len(bin(original_data))-2  # Assuming 8 bits per character\n",
    "        compressed_size = len(compressed_data) * (len(bin(max(compressed_data)))-2)  # Assuming its binary bits per code (for simplicity)\n",
    "        return original_size/ compressed_size"
   ]
  },
  {
   "cell_type": "code",
   "execution_count": 140,
   "id": "cd061477",
   "metadata": {},
   "outputs": [
    {
     "data": {
      "text/plain": [
       "2.0"
      ]
     },
     "execution_count": 140,
     "metadata": {},
     "output_type": "execute_result"
    }
   ],
   "source": [
    "compression_ratio(\"abcdf\",[0,1,000,1111,10],\"huffman\")"
   ]
  },
  {
   "cell_type": "code",
   "execution_count": 141,
   "id": "804ece78",
   "metadata": {},
   "outputs": [
    {
     "data": {
      "text/plain": [
       "2.727272727272727"
      ]
     },
     "execution_count": 141,
     "metadata": {},
     "output_type": "execute_result"
    }
   ],
   "source": [
    "compression_ratio(\"aaaabbccccccddd\",[(\"a\",4),(\"b\",2),(\"c\",6),(\"d\",3)],\"RLE\")"
   ]
  },
  {
   "cell_type": "code",
   "execution_count": 142,
   "id": "0ac4d041",
   "metadata": {},
   "outputs": [
    {
     "data": {
      "text/plain": [
       "1.25"
      ]
     },
     "execution_count": 142,
     "metadata": {},
     "output_type": "execute_result"
    }
   ],
   "source": [
    "compression_ratio('wabbawabba',[119, 97, 98, 98, 97, 128, 130, 97],\"LZW\")"
   ]
  },
  {
   "cell_type": "code",
   "execution_count": 143,
   "id": "3fd4a49a",
   "metadata": {},
   "outputs": [],
   "source": [
    "def average_length(message,prop=None):\n",
    "    # prop must be dictionary\n",
    "    if prop == None:\n",
    "        frequencies = {}\n",
    "        for char in message:\n",
    "            if char in frequencies:\n",
    "                frequencies[char] += 1\n",
    "            else:\n",
    "                frequencies[char] = 1\n",
    "        result = 0\n",
    "        message_length = len(message)\n",
    "        for key,frequency in frequencies.items(): \n",
    "            probability = frequency / message_length\n",
    "            result += probability * len(str(key))\n",
    "        return result \n",
    "    else:\n",
    "        frequencies = {}\n",
    "        for char in message:\n",
    "            if char in frequencies:\n",
    "                frequencies[char] += 1\n",
    "            else:\n",
    "                frequencies[char] = 1\n",
    "        result = 0\n",
    "        message_length = len(message)\n",
    "        for key,frequency in frequencies.items(): \n",
    "            probability = prop[key]\n",
    "            result += probability * len(str(key))\n",
    "        return result"
   ]
  },
  {
   "cell_type": "code",
   "execution_count": 144,
   "id": "2d61d7a3",
   "metadata": {},
   "outputs": [
    {
     "data": {
      "text/plain": [
       "2.0"
      ]
     },
     "execution_count": 144,
     "metadata": {},
     "output_type": "execute_result"
    }
   ],
   "source": [
    "average_length([1,10,100])"
   ]
  },
  {
   "cell_type": "code",
   "execution_count": 145,
   "id": "29795a5a",
   "metadata": {},
   "outputs": [
    {
     "data": {
      "text/plain": [
       "2.0500000000000003"
      ]
     },
     "execution_count": 145,
     "metadata": {},
     "output_type": "execute_result"
    }
   ],
   "source": [
    "average_length([0,10,110,1110,1111],{0:0.4,10:0.3,110:0.15,1110:0.1,1111:0.05})"
   ]
  },
  {
   "cell_type": "code",
   "execution_count": 146,
   "id": "c67230c7",
   "metadata": {},
   "outputs": [],
   "source": [
    "def efficiency(average_length,entropy):\n",
    "    return (entropy/average_length) * 100"
   ]
  },
  {
   "cell_type": "code",
   "execution_count": 147,
   "id": "f69893b5",
   "metadata": {},
   "outputs": [
    {
     "data": {
      "text/plain": [
       "80.0"
      ]
     },
     "execution_count": 147,
     "metadata": {},
     "output_type": "execute_result"
    }
   ],
   "source": [
    "efficiency(5,4)"
   ]
  },
  {
   "cell_type": "code",
   "execution_count": 148,
   "id": "810df22c",
   "metadata": {},
   "outputs": [],
   "source": [
    "def probability(message):\n",
    "    frequencies = {}\n",
    "    for char in message:\n",
    "        if char in frequencies:\n",
    "            frequencies[char] += 1\n",
    "        else:\n",
    "            frequencies[char] = 1\n",
    "    message_length = len(message)\n",
    "    probability = {}\n",
    "    for key,frequency in frequencies.items(): \n",
    "        probability[key] = frequency / message_length\n",
    "    return probability\n",
    "    "
   ]
  },
  {
   "cell_type": "code",
   "execution_count": 149,
   "id": "71667aa2",
   "metadata": {},
   "outputs": [
    {
     "data": {
      "text/plain": [
       "{1: 0.3333333333333333, 10: 0.3333333333333333, 100: 0.3333333333333333}"
      ]
     },
     "execution_count": 149,
     "metadata": {},
     "output_type": "execute_result"
    }
   ],
   "source": [
    "probability([1,10,100])"
   ]
  },
  {
   "cell_type": "code",
   "execution_count": 150,
   "id": "99ca5269",
   "metadata": {},
   "outputs": [
    {
     "data": {
      "text/plain": [
       "{1: 0.125, 2: 0.125, 3: 0.125, 4: 0.125, 5: 0.25, 6: 0.25}"
      ]
     },
     "execution_count": 150,
     "metadata": {},
     "output_type": "execute_result"
    }
   ],
   "source": [
    "probability([1,2,3,4,5,6,6,5])"
   ]
  }
 ],
 "metadata": {
  "kernelspec": {
   "display_name": "Python 3 (ipykernel)",
   "language": "python",
   "name": "python3"
  },
  "language_info": {
   "codemirror_mode": {
    "name": "ipython",
    "version": 3
   },
   "file_extension": ".py",
   "mimetype": "text/x-python",
   "name": "python",
   "nbconvert_exporter": "python",
   "pygments_lexer": "ipython3",
   "version": "3.10.9"
  }
 },
 "nbformat": 4,
 "nbformat_minor": 5
}
