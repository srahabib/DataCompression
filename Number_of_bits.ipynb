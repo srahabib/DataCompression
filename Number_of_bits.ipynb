{
 "cells": [
  {
   "cell_type": "code",
   "execution_count": 5,
   "metadata": {},
   "outputs": [],
   "source": [
    "import math\n",
    "def number_of_bits(original_data, compressed_data , compression_type):\n",
    "    if compression_type == \"huffman\": # can work for GOLOMB in some examples\n",
    "        if isinstance(original_data, str):\n",
    "            original_size_h = len(original_data) * 8  # Assuming 8 bits per character\n",
    "        elif isinstance(original_data, int) or isinstance(original_data, float):\n",
    "            original_size_h = len(original_data) * len(bin(original_data))-2  # Assuming 8 bits per character\n",
    "        compressed_size_h = len(compressed_data) * len(str(max(compressed_data)))  # Assuming its binary bits per code (for simplicity)\n",
    "        return original_size_h , compressed_size_h\n",
    "    elif compression_type == \"RLE\":\n",
    "        original_size_r = len(original_data)*8\n",
    "        letters,numbers = zip(*compressed_data) \n",
    "        compressed_size_r = len(compressed_data) *(8 + math.ceil(math.log2(max(numbers)+1)))\n",
    "        return original_size_r , compressed_size_r\n",
    "    elif compression_type == \"LZW\": # can work for GOLOMB in some examples\n",
    "        if isinstance(original_data, str):\n",
    "            original_size = len(original_data) * 8  # Assuming 8 bits per character\n",
    "        elif isinstance(original_data, int) or isinstance(original_data, float):\n",
    "            original_size = len(original_data) * len(bin(original_data))-2  # Assuming 8 bits per character\n",
    "        compressed_size = len(compressed_data) * (len(bin(max(compressed_data)))-2)  # Assuming its binary bits per code (for simplicity)\n",
    "        return original_size, compressed_size"
   ]
  },
  {
   "cell_type": "code",
   "execution_count": 7,
   "metadata": {},
   "outputs": [],
   "source": [
    "before,after = number_of_bits(\"abcdf\",[0,1,000,1111,10],\"huffman\")"
   ]
  },
  {
   "cell_type": "code",
   "execution_count": 8,
   "metadata": {},
   "outputs": [
    {
     "name": "stdout",
     "output_type": "stream",
     "text": [
      "40 20\n"
     ]
    }
   ],
   "source": [
    "print(before,after)"
   ]
  },
  {
   "cell_type": "code",
   "execution_count": 9,
   "metadata": {},
   "outputs": [
    {
     "data": {
      "text/plain": [
       "(120, 44)"
      ]
     },
     "execution_count": 9,
     "metadata": {},
     "output_type": "execute_result"
    }
   ],
   "source": [
    "number_of_bits(\"aaaabbccccccddd\",[(\"a\",4),(\"b\",2),(\"c\",6),(\"d\",3)],\"RLE\")"
   ]
  },
  {
   "cell_type": "code",
   "execution_count": 10,
   "metadata": {},
   "outputs": [
    {
     "data": {
      "text/plain": [
       "(80, 64)"
      ]
     },
     "execution_count": 10,
     "metadata": {},
     "output_type": "execute_result"
    }
   ],
   "source": [
    "number_of_bits('wabbawabba',[119, 97, 98, 98, 97, 128, 130, 97],\"LZW\")"
   ]
  }
 ],
 "metadata": {
  "kernelspec": {
   "display_name": "base",
   "language": "python",
   "name": "python3"
  },
  "language_info": {
   "codemirror_mode": {
    "name": "ipython",
    "version": 3
   },
   "file_extension": ".py",
   "mimetype": "text/x-python",
   "name": "python",
   "nbconvert_exporter": "python",
   "pygments_lexer": "ipython3",
   "version": "3.11.0"
  }
 },
 "nbformat": 4,
 "nbformat_minor": 2
}
